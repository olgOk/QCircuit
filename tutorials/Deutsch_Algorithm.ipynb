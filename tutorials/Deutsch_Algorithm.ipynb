{
  "nbformat": 4,
  "nbformat_minor": 0,
  "metadata": {
    "colab": {
      "name": "Deutsch Algorithm.ipynb",
      "provenance": [],
      "collapsed_sections": [],
      "authorship_tag": "ABX9TyPa1xJps3y4rsNugAmPgveC",
      "include_colab_link": true
    },
    "kernelspec": {
      "name": "python3",
      "display_name": "Python 3"
    },
    "accelerator": "GPU"
  },
  "cells": [
    {
      "cell_type": "markdown",
      "metadata": {
        "id": "view-in-github",
        "colab_type": "text"
      },
      "source": [
        "<a href=\"https://colab.research.google.com/github/olgOk/QCircuit/blob/master/tutorials/Deutsch_Algorithm.ipynb\" target=\"_parent\"><img src=\"https://colab.research.google.com/assets/colab-badge.svg\" alt=\"Open In Colab\"/></a>"
      ]
    },
    {
      "cell_type": "markdown",
      "metadata": {
        "id": "zyhcDFD1ZI4M",
        "colab_type": "text"
      },
      "source": [
        "# Deutsch Algorithm\n",
        "\n",
        "by Olga Okrut"
      ]
    },
    {
      "cell_type": "markdown",
      "metadata": {
        "id": "OXeA3xgJdClf",
        "colab_type": "text"
      },
      "source": [
        "Install frameworks, and import libraries"
      ]
    },
    {
      "cell_type": "code",
      "metadata": {
        "id": "XmzQ3UgobS6y",
        "colab_type": "code",
        "outputId": "584fa7f9-9107-48ce-fabe-633326235216",
        "colab": {
          "base_uri": "https://localhost:8080/",
          "height": 506
        }
      },
      "source": [
        "!pip install tensornetwork jax jaxlib colorama qcircuit"
      ],
      "execution_count": 1,
      "outputs": [
        {
          "output_type": "stream",
          "text": [
            "Collecting tensornetwork\n",
            "\u001b[?25l  Downloading https://files.pythonhosted.org/packages/1a/45/dafcf14d01d71e81566c8a6bfff8005101a7bd4709a14a28116b7e217f0c/tensornetwork-0.4.0-py3-none-any.whl (245kB)\n",
            "\r\u001b[K     |█▍                              | 10kB 5.1MB/s eta 0:00:01\r\u001b[K     |██▊                             | 20kB 1.4MB/s eta 0:00:01\r\u001b[K     |████                            | 30kB 1.9MB/s eta 0:00:01\r\u001b[K     |█████▍                          | 40kB 1.5MB/s eta 0:00:01\r\u001b[K     |██████▊                         | 51kB 1.8MB/s eta 0:00:01\r\u001b[K     |████████                        | 61kB 2.1MB/s eta 0:00:01\r\u001b[K     |█████████▍                      | 71kB 2.3MB/s eta 0:00:01\r\u001b[K     |██████████▊                     | 81kB 2.5MB/s eta 0:00:01\r\u001b[K     |████████████                    | 92kB 2.7MB/s eta 0:00:01\r\u001b[K     |█████████████▍                  | 102kB 2.6MB/s eta 0:00:01\r\u001b[K     |██████████████▊                 | 112kB 2.6MB/s eta 0:00:01\r\u001b[K     |████████████████                | 122kB 2.6MB/s eta 0:00:01\r\u001b[K     |█████████████████▍              | 133kB 2.6MB/s eta 0:00:01\r\u001b[K     |██████████████████▊             | 143kB 2.6MB/s eta 0:00:01\r\u001b[K     |████████████████████            | 153kB 2.6MB/s eta 0:00:01\r\u001b[K     |█████████████████████▍          | 163kB 2.6MB/s eta 0:00:01\r\u001b[K     |██████████████████████▊         | 174kB 2.6MB/s eta 0:00:01\r\u001b[K     |████████████████████████        | 184kB 2.6MB/s eta 0:00:01\r\u001b[K     |█████████████████████████▍      | 194kB 2.6MB/s eta 0:00:01\r\u001b[K     |██████████████████████████▊     | 204kB 2.6MB/s eta 0:00:01\r\u001b[K     |████████████████████████████    | 215kB 2.6MB/s eta 0:00:01\r\u001b[K     |█████████████████████████████▍  | 225kB 2.6MB/s eta 0:00:01\r\u001b[K     |██████████████████████████████▊ | 235kB 2.6MB/s eta 0:00:01\r\u001b[K     |████████████████████████████████| 245kB 2.6MB/s \n",
            "\u001b[?25hRequirement already satisfied: jax in /usr/local/lib/python3.6/dist-packages (0.1.67)\n",
            "Requirement already satisfied: jaxlib in /usr/local/lib/python3.6/dist-packages (0.1.47)\n",
            "Collecting colorama\n",
            "  Downloading https://files.pythonhosted.org/packages/c9/dc/45cdef1b4d119eb96316b3117e6d5708a08029992b2fee2c143c7a0a5cc5/colorama-0.4.3-py2.py3-none-any.whl\n",
            "Collecting qcircuit\n",
            "  Downloading https://files.pythonhosted.org/packages/5f/e9/bd5cb2a97948e7cb00034582a2f108281c59b77e1a81405474115de38215/qcircuit-1.0.1.tar.gz\n",
            "Requirement already satisfied: h5py>=2.9.0 in /usr/local/lib/python3.6/dist-packages (from tensornetwork) (2.10.0)\n",
            "Requirement already satisfied: opt-einsum>=2.3.0 in /usr/local/lib/python3.6/dist-packages (from tensornetwork) (3.2.1)\n",
            "Collecting graphviz>=0.11.1\n",
            "  Downloading https://files.pythonhosted.org/packages/83/cc/c62100906d30f95d46451c15eb407da7db201e30f42008f3643945910373/graphviz-0.14-py2.py3-none-any.whl\n",
            "Requirement already satisfied: scipy>=1.1 in /usr/local/lib/python3.6/dist-packages (from tensornetwork) (1.4.1)\n",
            "Requirement already satisfied: numpy>=1.17 in /usr/local/lib/python3.6/dist-packages (from tensornetwork) (1.18.4)\n",
            "Requirement already satisfied: absl-py in /usr/local/lib/python3.6/dist-packages (from jax) (0.9.0)\n",
            "Requirement already satisfied: six in /usr/local/lib/python3.6/dist-packages (from h5py>=2.9.0->tensornetwork) (1.12.0)\n",
            "Building wheels for collected packages: qcircuit\n",
            "  Building wheel for qcircuit (setup.py) ... \u001b[?25l\u001b[?25hdone\n",
            "  Created wheel for qcircuit: filename=qcircuit-1.0.1-cp36-none-any.whl size=5988 sha256=72f6b3c70c3a14ead5f6a15edcaa882a3eeddef52a3fcd0390a2439ef7d43b66\n",
            "  Stored in directory: /root/.cache/pip/wheels/a3/dd/39/d3dece77c172e493c47e48a0b28382d116ff2daad674a7270b\n",
            "Successfully built qcircuit\n",
            "Installing collected packages: graphviz, tensornetwork, colorama, qcircuit\n",
            "  Found existing installation: graphviz 0.10.1\n",
            "    Uninstalling graphviz-0.10.1:\n",
            "      Successfully uninstalled graphviz-0.10.1\n",
            "Successfully installed colorama-0.4.3 graphviz-0.14 qcircuit-1.0.1 tensornetwork-0.4.0\n"
          ],
          "name": "stdout"
        }
      ]
    },
    {
      "cell_type": "code",
      "metadata": {
        "id": "iuBR1V75boiQ",
        "colab_type": "code",
        "colab": {}
      },
      "source": [
        "from qcircuit import QCircuit as qc"
      ],
      "execution_count": 0,
      "outputs": []
    },
    {
      "cell_type": "markdown",
      "metadata": {
        "id": "rp9Lrl-cPRhp",
        "colab_type": "text"
      },
      "source": [
        "Now, after we have learned how quantum gates work and how to build a quantum circuit, we will jump to the first quantum algorithm. We begin with a very simple quantum algorithm - Deutsch algorithm, named after its inventor David Deutsch, which serves as an excellent proof of the supremacy of quantum computers and algorithms over classical.\n",
        "\n",
        "\n",
        "The problem Deutsch algorithm tackles can now be stated as follows. Given a black box *Uf* implementing\n",
        "some unknown binary function *f* that maps {0, 1} into {0, 1}. In other words function maps from one bit of the inforamtion to one bit. We have to clasify *f* as “constant” or “balanced” function. \n",
        "\n",
        "\n",
        "\n",
        "Here, constant means function always outputs the same bit, i.e. f(0) = f(1) = 1 or f(0) = f(1) = 0:\n",
        "![picture](https://drive.google.com/uc?id=1CytjIW8-GO1KZfybNH21XtzTFWf9iTFX)\n",
        "\n",
        "\n",
        "\n",
        "Balanced means function outputs different bits on different inputs, i.e. f(0) != f(1):\n",
        "![picture](https://drive.google.com/uc?id=1WST_QiyQ9HSR_K98HAsmIkZB8fssPOWg)\n",
        "\n",
        "The circuit for Deutsch’s algoritm is given below. The steps for the Deutsch algorithm:\n",
        "\n",
        "1.   Prepare two qubits, one in state `1|0> + 0|1>` and the other in state `0|0> + 1|1>` (apply *X* gate on the second qubit).\n",
        "\n",
        "2.  Apply the Hadamard gate (*H*) on both qubits to bring them to superposition.\n",
        "\n",
        "3. The output after the Hadamard transformation will be send through the gate *Uf*. The values of the *Uf* matrix depends on the *f(x)* function. That means that the state vector after the gate *Uf* depends on the function, e.g. constant or balanced function.\n",
        "\n",
        "4. The output from the *Uf* transormation is send to the gates Hadarard again. It will collapse the state vector from the superposition to one of the possible state depending on the function *f(x)*. \n",
        "\n",
        "5. The output from the Hadamard transformation will be a two qubit register. If all four possible function values are tested, it is revealed that the final output will be either `(0, 0), (0, 1), (1, 0), or (1, 1)` with probability of 1. The output value will depend on *f(x)*. The two qubits are entangled in the end, so only one of their values can be measured. This prevents us from known exactly which *f(x)* is being used. However, the first qubit in the pair will always be 1 if the function *f(x)* is **balanced**. If *f(x)* is **constant**, the algorithm outputs 0.\n",
        "\n",
        "![picture](https://drive.google.com/uc?id=1rGNVTM3xl6AUQ6__k7LY0eSbot4W_tZU)\n",
        "\n"
      ]
    },
    {
      "cell_type": "markdown",
      "metadata": {
        "id": "wvnjSJWuPeek",
        "colab_type": "text"
      },
      "source": [
        "Now, let's create the quantum circuit above. We will use built-in method \n",
        "```\n",
        "Uf(function)\n",
        "```\n",
        "which translates a classcal binary function *f(x)* into a unitary matrix *U*, and applies it to the circuit. As a parameter, it takes a function that needs to be tested for being balanced or constant. I will use a set of predefined functions to show the validity of the algorithm."
      ]
    },
    {
      "cell_type": "code",
      "metadata": {
        "id": "R4z3uqGYPcw6",
        "colab_type": "code",
        "outputId": "6c29def1-3326-4585-b313-2725bafad44f",
        "colab": {
          "base_uri": "https://localhost:8080/",
          "height": 156
        }
      },
      "source": [
        "# define binary functions. Some of them are constant, other balanced\n",
        "def f1(x):\n",
        "    return x\n",
        "\n",
        "def f2(x):\n",
        "    return 1\n",
        "\n",
        "def f3(x):\n",
        "    return 0\n",
        "\n",
        "def f4(x):\n",
        "    return not x\n",
        "\n",
        "def f5(x):\n",
        "    return x ** 2\n",
        "\n",
        "def f6(x):\n",
        "    return not (x ** 3)\n",
        "\n",
        "def f7(x):\n",
        "  return (x % 3 == 2)\n",
        "\n",
        "def f8(x):\n",
        "  return not (x % 3 == 2)\n",
        "\n",
        "# check if the function constant\n",
        "def is_const(func):\n",
        "  deutsch = qc.QCircuit(2)\n",
        "  deutsch.X(0)\n",
        "  deutsch.H(1)\n",
        "  deutsch.H(0)\n",
        "  deutsch.Uf(func)\n",
        "  deutsch.H(0)\n",
        "  deutsch.H(1)\n",
        "\n",
        "  # get output state vector\n",
        "  # decide if a function constanta or balanced\n",
        "  output_state = deutsch.get_state_vector()\n",
        "  # print(\"output state = \", output_state)\n",
        "  if abs(output_state[3]) == 0.+0.j:\n",
        "    return True\n",
        "  else:\n",
        "    return False\n",
        "\n",
        "functions = [f1, f2, f3, f4, f5, f6, f7, f8]\n",
        "\n",
        "for func in range(len(functions)):\n",
        "  print('function f{} is {}'.format(func+1, 'constant' if is_const(functions[func]) else 'balansed'))"
      ],
      "execution_count": 3,
      "outputs": [
        {
          "output_type": "stream",
          "text": [
            "function f1 is balansed\n",
            "function f2 is constant\n",
            "function f3 is constant\n",
            "function f4 is balansed\n",
            "function f5 is balansed\n",
            "function f6 is balansed\n",
            "function f7 is constant\n",
            "function f8 is constant\n"
          ],
          "name": "stdout"
        }
      ]
    },
    {
      "cell_type": "markdown",
      "metadata": {
        "id": "jVxS3hx4lgke",
        "colab_type": "text"
      },
      "source": [
        "##Deutsch-Jozsa Algorithm \n",
        "\n",
        "Now, let's discuss more general algorithm. What if instead of a black box function that maps one bit to one bit you need to map *n* bit to one bit? That is what Deutsch-Jozsa algorithm is about. After David Deutsch introduced his algorithm, Richard Jozsa generalized Deutsch algorithm on the system of *n* bits.\n",
        "\n",
        "\n",
        "The problem Deutsch-Jozsa algorithm tackles can be stated as follows. Given a black box *Uf* implementing\n",
        "some unknown binary function *f* that maps $(0, 1)^n$ into (0, 1). We have to solve the same problem as with the Deutsch algorithm: clasify *f* as a “constant” or a “balanced” function. The only difference from the previous task is that the function *f* can take two or more agruments.\n",
        "\n",
        "\n",
        "The circuit for the Deutsch-Jazsa algoritm is pretty the same. However, insted of two qubits we now need to initialize *n* qubits  with ``` |0> ``` and one qubit with the value of ``` |1> ```. You can find the picture of quantum circuit below.\n",
        "\n",
        "The steps for the Deutsch-Jozsa algorithm:\n",
        "\n",
        "1.   Prepare *n* qubits in state `1|0> + 0|1>`, and one qubit in state `0|0> + 1|1>` (apply *X* gate on this qubit).\n",
        "\n",
        "2.  Apply the Hadamard gate (*H*) on all qubits to bring them to superposition.\n",
        "\n",
        "3. The output after the Hadamard transformation will be send through the gate *Uf*. The values of the *Uf* matrix depends on the *f* function. \n",
        "It means that the state vector after the *Uf* operator will depend on the function, e.g. constant or balanced function.\n",
        "\n",
        "4. The output from the *Uf* transormation is send to the Hadamard gates again. It will collapse the state vector to one of the possible state depending on the function *f()*. \n",
        "\n",
        "5. The last step of the algorithm is a measurement. \n",
        "The output from the Hadamard transformation will be the register with *n+1* qubits.  The first n qubits will always be 0 if the function *f()* is **constant**, otherwise *f(x)* is **balanced**.\n",
        "\n",
        "![picture](https://upload.wikimedia.org/wikipedia/commons/thumb/8/84/Deutsch-Jozsa_Algorithm.svg/1280px-Deutsch-Jozsa_Algorithm.svg.png)\n",
        "\n",
        "\n"
      ]
    },
    {
      "cell_type": "code",
      "metadata": {
        "id": "IRuywIQhlfG5",
        "colab_type": "code",
        "outputId": "8dd27589-8148-4628-efa9-0201363067ac",
        "colab": {
          "base_uri": "https://localhost:8080/",
          "height": 104
        }
      },
      "source": [
        "# define binary functions. Some of them are constant, other balanced\n",
        "def func1(x, y):\n",
        "    return x ^ y\n",
        "def func2(x, y, z):\n",
        "    return 1\n",
        "\n",
        "# check if the function func1 constant\n",
        "def is_constf1(func):\n",
        "  deutsch_jozsa = qc.QCircuit(3)\n",
        "  deutsch_jozsa.X(0)\n",
        "  deutsch_jozsa.H(2)\n",
        "  deutsch_jozsa.H(1)\n",
        "  deutsch_jozsa.H(0)\n",
        "  deutsch_jozsa.Uf(func)\n",
        "  deutsch_jozsa.H(2)\n",
        "  deutsch_jozsa.H(1)\n",
        "  deutsch_jozsa.H(0)\n",
        "\n",
        "  # get output state vector\n",
        "  # decide if a function constant or balanced\n",
        "  output_state = deutsch_jozsa.get_state_vector()\n",
        "  # print(\"output_state for func1\", output_state)\n",
        "  if abs(output_state[7] == 0.+0.j):\n",
        "    return True\n",
        "  else:\n",
        "    return False\n",
        "\n",
        "# check if the function func2 constant\n",
        "def is_constf2(func):\n",
        "  deutsch_jozsa = qc.QCircuit(4)\n",
        "  deutsch_jozsa.X(0)\n",
        "  deutsch_jozsa.H(3)\n",
        "  deutsch_jozsa.H(2)\n",
        "  deutsch_jozsa.H(1)\n",
        "  deutsch_jozsa.H(0)\n",
        "  deutsch_jozsa.Uf(func)\n",
        "  deutsch_jozsa.H(3)\n",
        "  deutsch_jozsa.H(2)\n",
        "  deutsch_jozsa.H(1)\n",
        "  deutsch_jozsa.H(0)\n",
        "\n",
        "  # get output state vector\n",
        "  # decide if a function constant or balanced\n",
        "  output_state = deutsch_jozsa.get_state_vector()\n",
        "  # print(\"output_state for func2\", output_state)\n",
        "  if abs(output_state[15] == 0.+0.j):\n",
        "    return True\n",
        "  else:\n",
        "    return False\n",
        "\n",
        "print('function func1 is {}'.format('constant' if is_constf1(func1) else 'balansed'))\n",
        "print('function func2 is {}'.format('constant' if is_constf2(func2) else 'balansed'))"
      ],
      "execution_count": 7,
      "outputs": [
        {
          "output_type": "stream",
          "text": [
            "output_state for func1 [ 0.+0.j  0.+0.j  0.+0.j  0.+0.j  0.+0.j  0.+0.j -0.+0.j  1.+0.j]\n",
            "function func1 is balansed\n",
            "output_state for func2 [ 0.+0.j -1.+0.j  0.+0.j  0.+0.j  0.+0.j  0.+0.j  0.+0.j  0.+0.j  0.+0.j\n",
            "  0.+0.j  0.+0.j  0.+0.j  0.+0.j  0.+0.j  0.+0.j  0.+0.j]\n",
            "function func2 is constant\n"
          ],
          "name": "stdout"
        }
      ]
    },
    {
      "cell_type": "code",
      "metadata": {
        "id": "-AvDkD7Uo-Ey",
        "colab_type": "code",
        "colab": {}
      },
      "source": [
        ""
      ],
      "execution_count": 0,
      "outputs": []
    }
  ]
}