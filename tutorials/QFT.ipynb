{
  "nbformat": 4,
  "nbformat_minor": 0,
  "metadata": {
    "colab": {
      "name": "QFT.ipynb",
      "provenance": [],
      "authorship_tag": "ABX9TyN7jAghyKYvljLB5z7lSy4V",
      "include_colab_link": true
    },
    "kernelspec": {
      "name": "python3",
      "display_name": "Python 3"
    }
  },
  "cells": [
    {
      "cell_type": "markdown",
      "metadata": {
        "id": "view-in-github",
        "colab_type": "text"
      },
      "source": [
        "<a href=\"https://colab.research.google.com/github/olgOk/QCircuit/blob/master/tutorials/QFT.ipynb\" target=\"_parent\"><img src=\"https://colab.research.google.com/assets/colab-badge.svg\" alt=\"Open In Colab\"/></a>"
      ]
    },
    {
      "cell_type": "markdown",
      "metadata": {
        "id": "j5q1QSEufG0Q",
        "colab_type": "text"
      },
      "source": [
        "# Quantum Fourier Transform\n",
        "\n",
        "by Olga Okrut\n"
      ]
    },
    {
      "cell_type": "markdown",
      "metadata": {
        "id": "33Oujr-4dzdw",
        "colab_type": "text"
      },
      "source": [
        "Install frameworks, and import libraries"
      ]
    },
    {
      "cell_type": "code",
      "metadata": {
        "id": "xsTmayOEd0YN",
        "colab_type": "code",
        "colab": {
          "base_uri": "https://localhost:8080/",
          "height": 506
        },
        "outputId": "99d0d85a-2b62-45d8-c820-9957e90e5427"
      },
      "source": [
        "!pip install qcircuit tensornetwork jax jaxlib colorama"
      ],
      "execution_count": 1,
      "outputs": [
        {
          "output_type": "stream",
          "text": [
            "Collecting qcircuit\n",
            "  Downloading https://files.pythonhosted.org/packages/5f/e9/bd5cb2a97948e7cb00034582a2f108281c59b77e1a81405474115de38215/qcircuit-1.0.1.tar.gz\n",
            "Collecting tensornetwork\n",
            "\u001b[?25l  Downloading https://files.pythonhosted.org/packages/1a/45/dafcf14d01d71e81566c8a6bfff8005101a7bd4709a14a28116b7e217f0c/tensornetwork-0.4.0-py3-none-any.whl (245kB)\n",
            "\u001b[K     |████████████████████████████████| 245kB 2.8MB/s \n",
            "\u001b[?25hRequirement already satisfied: jax in /usr/local/lib/python3.6/dist-packages (0.1.67)\n",
            "Requirement already satisfied: jaxlib in /usr/local/lib/python3.6/dist-packages (0.1.47)\n",
            "Collecting colorama\n",
            "  Downloading https://files.pythonhosted.org/packages/c9/dc/45cdef1b4d119eb96316b3117e6d5708a08029992b2fee2c143c7a0a5cc5/colorama-0.4.3-py2.py3-none-any.whl\n",
            "Requirement already satisfied: numpy>=1.17 in /usr/local/lib/python3.6/dist-packages (from tensornetwork) (1.18.4)\n",
            "Requirement already satisfied: h5py>=2.9.0 in /usr/local/lib/python3.6/dist-packages (from tensornetwork) (2.10.0)\n",
            "Requirement already satisfied: opt-einsum>=2.3.0 in /usr/local/lib/python3.6/dist-packages (from tensornetwork) (3.2.1)\n",
            "Collecting graphviz>=0.11.1\n",
            "  Downloading https://files.pythonhosted.org/packages/83/cc/c62100906d30f95d46451c15eb407da7db201e30f42008f3643945910373/graphviz-0.14-py2.py3-none-any.whl\n",
            "Requirement already satisfied: scipy>=1.1 in /usr/local/lib/python3.6/dist-packages (from tensornetwork) (1.4.1)\n",
            "Requirement already satisfied: absl-py in /usr/local/lib/python3.6/dist-packages (from jax) (0.9.0)\n",
            "Requirement already satisfied: six in /usr/local/lib/python3.6/dist-packages (from h5py>=2.9.0->tensornetwork) (1.12.0)\n",
            "Building wheels for collected packages: qcircuit\n",
            "  Building wheel for qcircuit (setup.py) ... \u001b[?25l\u001b[?25hdone\n",
            "  Created wheel for qcircuit: filename=qcircuit-1.0.1-cp36-none-any.whl size=5988 sha256=cf2fd63859feedd5e806c078069e60aef00a4497e11b84f1478b50da09701274\n",
            "  Stored in directory: /root/.cache/pip/wheels/a3/dd/39/d3dece77c172e493c47e48a0b28382d116ff2daad674a7270b\n",
            "Successfully built qcircuit\n",
            "Installing collected packages: qcircuit, graphviz, tensornetwork, colorama\n",
            "  Found existing installation: graphviz 0.10.1\n",
            "    Uninstalling graphviz-0.10.1:\n",
            "      Successfully uninstalled graphviz-0.10.1\n",
            "Successfully installed colorama-0.4.3 graphviz-0.14 qcircuit-1.0.1 tensornetwork-0.4.0\n"
          ],
          "name": "stdout"
        }
      ]
    },
    {
      "cell_type": "code",
      "metadata": {
        "id": "GvHYx_gleCnT",
        "colab_type": "code",
        "colab": {}
      },
      "source": [
        "from qcircuit import QCircuit as qc\n",
        "import numpy as np"
      ],
      "execution_count": 0,
      "outputs": []
    },
    {
      "cell_type": "markdown",
      "metadata": {
        "id": "2ZXbk-WsfInS",
        "colab_type": "text"
      },
      "source": [
        "The quantum Fourier transform (QFT) is the quantum implementation of the discrete Fourier transform over the amplitudes of a wavefunction.\n",
        "\n",
        "Let's say we have a given quantum circuit consisting of *n* qubits. The state vector of the sysytem is a vector of $ N = 2^n$ size. Let ``` |j>```, where $ j = 0,1,2,..N-1 $ be the basis states of the given system. The QFT of the basis states of the system is defined as:\n",
        "$ |j> -> \\frac{1}{\\sqrt(N)} \\displaystyle\\sum_{k=0}^{N-1} exp(\\frac{2i\\pi jk}{N})|k>$\n",
        "\n",
        "Let me come up with an example. Suppose, we have three qubits circuit. As an input we send a number 5 (or *|101>* or *|5>*). I want to calculate the output after QFT. \n",
        "\n",
        "The size of the vector state is $N = 2^3 = 8$. Following the notation above:\n",
        "$ |out> = \\frac{1}{\\sqrt(8)} ( exp(\\frac{2i\\pi *5*0}{8})|000> + exp(\\frac{2i\\pi *5*1}{8})|100> + exp(\\frac{2i\\pi *5*2}{8})|010> +  exp(\\frac{2i\\pi *5*3}{8})|110> + exp(\\frac{2i\\pi *5*4}{8})|001> + exp(\\frac{2i\\pi *5*5}{8})|101> + exp(\\frac{2i\\pi *5*6}{8})|011> + exp(\\frac{2i\\pi *5*7}{8})|111>)$\n",
        "\n",
        "After evaluating the expression above, we will have the following states with the amplitudes (rounded to three decimals):\n",
        "$ 0.354     |000> \\\\\n",
        "(-0.25 -0.25i)|100> \\\\\n",
        "(0.354i)|010> \\\\\n",
        "(0.25 - 0.25i)|110> \\\\\n",
        "(-0.354)|001> \\\\\n",
        "(0.25+0.25)|101> \\\\\n",
        "(-0.354i)|011> \\\\\n",
        "(-0.25+0.25i)|111> $\n",
        "\n",
        "But how can we implement the QFT using quantum gates and QCircuit simulator? \n",
        "\n",
        "It has been proven that the QFT could be implement using Hadamard gates and controlled phase shift gates.\n",
        "\n",
        "The phase shift gate (a simple rotation gate. On the Bloch sphere, this gate corresponds to rotating the qubit state around the z axis by the given angle) is defined as:\n",
        "\n",
        "$ R = \\begin{pmatrix} \n",
        "  1 & 0  \\\\\n",
        "  0 & e^{i\\phi} \\end{pmatrix} $\n",
        "\n",
        " where $\\phi = \\frac{2 i pi}{2^k}$\n",
        "\n",
        " The phase shift gate has been implemented in to the QCircuit class as:  \n",
        " ```R(angle, target_qubit)```.\n",
        "\n",
        "Thus, if  target qubit is 0, and controll qubit is 1, the controlled phase shift gate is found as:\n",
        "$ CR = \\begin{pmatrix} \n",
        "  1 & 0 & 0 & 0 \\\\\n",
        "  0 & 1 & 0 & 0 \\\\\n",
        "  0 & 0 & 1 & 0 \\\\\n",
        "  0 & 0& 0 & e^{i\\phi} \\end{pmatrix} $\n",
        "\n",
        "  The controlled phase shift gate has been implemented in to the QCircuit class as:  \n",
        " ```CR(angle, [controll_qubits], target_qubit)```.\n",
        "\n",
        "The example disscussed above can be implemented using three qubits quantum circuit as below:\n",
        "\n",
        "![picture](https://drive.google.com/uc?id=1J5fT63NQJ6UHl7s8kh-hKZZ4x7NF4EMq)\n",
        "\n",
        "Before we continue to the general case, let's create this circuit, send `|5>` on the input and compare our calculations with the output of the QCircuit class."
      ]
    },
    {
      "cell_type": "code",
      "metadata": {
        "id": "FcFzOy99iGtS",
        "colab_type": "code",
        "colab": {
          "base_uri": "https://localhost:8080/",
          "height": 52
        },
        "outputId": "9c3521a5-de5e-4d71-c8e6-8fb116fe62d0"
      },
      "source": [
        "qft = qc.QCircuit(3)\n",
        "# send |5> on the input\n",
        "qft.X(0)\n",
        "qft.X(2)\n",
        "# apply the Hadamard and Controlled Shift Phase Gates\n",
        "qft.H(0)\n",
        "qft.CR(np.pi/2, control=[1], target=0)\n",
        "qft.CR(np.pi/4, control=[2], target=0)\n",
        "qft.H(1)\n",
        "qft.CR(np.pi/2, control=[2], target=1)\n",
        "qft.H(2)\n",
        "output_state = qft.get_state_vector()\n",
        "print(\"output state = \", output_state)"
      ],
      "execution_count": 5,
      "outputs": [
        {
          "output_type": "stream",
          "text": [
            "output state =  [ 0.354+0.j    -0.25 -0.25j   0.   +0.354j  0.25 -0.25j  -0.354+0.j\n",
            "  0.25 +0.25j  -0.   -0.354j -0.25 +0.25j ]\n"
          ],
          "name": "stdout"
        }
      ]
    },
    {
      "cell_type": "code",
      "metadata": {
        "id": "YVtdCQroihIr",
        "colab_type": "code",
        "colab": {
          "base_uri": "https://localhost:8080/",
          "height": 173
        },
        "outputId": "7f660b46-0fb5-4252-dff3-c42842c167d0"
      },
      "source": [
        "qft.visualize()"
      ],
      "execution_count": 6,
      "outputs": [
        {
          "output_type": "stream",
          "text": [
            "    |  ╔═╗   ╔═╗   \u001b[31m╔═╗\u001b[0m   \u001b[31m╔═╗\u001b[0m               \n",
            "q 0 |──║X║───║H║───\u001b[31m║R║\u001b[0m───\u001b[31m║R║\u001b[0m───────────────\n",
            "    |  ╚═╝   ╚═╝   \u001b[31m╚╦╝\u001b[0m   \u001b[31m╚═╝\u001b[0m               \n",
            "    |              \u001b[31m╔╩╗\u001b[0m   ╔═╗   \u001b[31m╔═╗\u001b[0m         \n",
            "q 1 |──────────────\u001b[31m║r║\u001b[0m───║H║───\u001b[31m║R║\u001b[0m─────────\n",
            "    |              \u001b[31m╚═╝\u001b[0m   ╚═╝   \u001b[31m╚╦╝\u001b[0m         \n",
            "    |  ╔═╗               \u001b[31m╔═╗\u001b[0m   \u001b[31m╔╩╗\u001b[0m   ╔═╗   \n",
            "q 2 |──║X║───────────────\u001b[31m║r║\u001b[0m───\u001b[31m║r║\u001b[0m───║H║───\n",
            "    |  ╚═╝               \u001b[31m╚═╝\u001b[0m   \u001b[31m╚═╝\u001b[0m   ╚═╝   \n"
          ],
          "name": "stdout"
        }
      ]
    },
    {
      "cell_type": "markdown",
      "metadata": {
        "id": "ekNJbm46jkf4",
        "colab_type": "text"
      },
      "source": [
        "As you can see that is exactly the same as we have calculated.\n",
        "Now, let implement a larger QFT.\n",
        "\n",
        "![picture](https://drive.google.com/uc?id=1X8IGjNUpm817TtwGdEhUfRYlA6q486-Y)\n",
        "\n",
        "I will implement the QFT on 4 qubits. The input state has been chosen arbitrary ```|1010>``` (number 10).\n",
        "\n"
      ]
    },
    {
      "cell_type": "code",
      "metadata": {
        "id": "KYekJ5YVjmit",
        "colab_type": "code",
        "colab": {
          "base_uri": "https://localhost:8080/",
          "height": 86
        },
        "outputId": "d7cead7b-a2c2-4a5a-932a-5e29c7a328ba"
      },
      "source": [
        "num_qubits = 4\n",
        "large_qft = qc.QCircuit(num_qubits)\n",
        "large_qft.X(1)\n",
        "large_qft.X(3)\n",
        "\n",
        "for qubit in range(num_qubits):\n",
        "  large_qft.H(qubit)\n",
        "  for control in range(qubit + 1, num_qubits):\n",
        "    phi = 2 * np.pi / 2 ** (control - qubit + 1)\n",
        "    large_qft.CR(phi, control=[control], target=qubit)\n",
        "output_state = large_qft.get_state_vector()\n",
        "print(\"output_state = \", output_state)"
      ],
      "execution_count": 8,
      "outputs": [
        {
          "output_type": "stream",
          "text": [
            "output_state =  [ 0.25 +0.j    -0.096+0.231j -0.177-0.177j  0.231-0.096j  0.   +0.25j\n",
            " -0.231-0.096j  0.177-0.177j  0.096+0.231j -0.25 +0.j     0.096-0.231j\n",
            "  0.177+0.177j -0.231+0.096j -0.   -0.25j   0.231+0.096j -0.177+0.177j\n",
            " -0.096-0.231j]\n"
          ],
          "name": "stdout"
        }
      ]
    },
    {
      "cell_type": "code",
      "metadata": {
        "id": "lDkyeby_jsh-",
        "colab_type": "code",
        "colab": {
          "base_uri": "https://localhost:8080/",
          "height": 225
        },
        "outputId": "2d41b56b-d9ea-469b-e8e9-71a9171cface"
      },
      "source": [
        "large_qft.visualize()"
      ],
      "execution_count": 9,
      "outputs": [
        {
          "output_type": "stream",
          "text": [
            "    |  ╔═╗   \u001b[31m╔═╗\u001b[0m   \u001b[31m╔═╗\u001b[0m   \u001b[31m╔═╗\u001b[0m                           \n",
            "q 0 |──║H║───\u001b[31m║R║\u001b[0m───\u001b[31m║R║\u001b[0m───\u001b[31m║R║\u001b[0m───────────────────────────\n",
            "    |  ╚═╝   \u001b[31m╚╦╝\u001b[0m   \u001b[31m╚═╝\u001b[0m   \u001b[31m╚═╝\u001b[0m                           \n",
            "    |  ╔═╗   \u001b[31m╔╩╗\u001b[0m         ╔═╗   \u001b[31m╔═╗\u001b[0m   \u001b[31m╔═╗\u001b[0m               \n",
            "q 1 |──║X║───\u001b[31m║r║\u001b[0m─────────║H║───\u001b[31m║R║\u001b[0m───\u001b[31m║R║\u001b[0m───────────────\n",
            "    |  ╚═╝   \u001b[31m╚═╝\u001b[0m         ╚═╝   \u001b[31m╚╦╝\u001b[0m   \u001b[31m╚═╝\u001b[0m               \n",
            "    |              \u001b[31m╔═╗\u001b[0m         \u001b[31m╔╩╗\u001b[0m   ╔═╗   \u001b[31m╔═╗\u001b[0m         \n",
            "q 2 |──────────────\u001b[31m║r║\u001b[0m─────────\u001b[31m║r║\u001b[0m───║H║───\u001b[31m║R║\u001b[0m─────────\n",
            "    |              \u001b[31m╚═╝\u001b[0m         \u001b[31m╚═╝\u001b[0m   ╚═╝   \u001b[31m╚╦╝\u001b[0m         \n",
            "    |  ╔═╗               \u001b[31m╔═╗\u001b[0m         \u001b[31m╔═╗\u001b[0m   \u001b[31m╔╩╗\u001b[0m   ╔═╗   \n",
            "q 3 |──║X║───────────────\u001b[31m║r║\u001b[0m─────────\u001b[31m║r║\u001b[0m───\u001b[31m║r║\u001b[0m───║H║───\n",
            "    |  ╚═╝               \u001b[31m╚═╝\u001b[0m         \u001b[31m╚═╝\u001b[0m   \u001b[31m╚═╝\u001b[0m   ╚═╝   \n"
          ],
          "name": "stdout"
        }
      ]
    },
    {
      "cell_type": "code",
      "metadata": {
        "id": "VUIkr7jRea2Y",
        "colab_type": "code",
        "colab": {}
      },
      "source": [
        ""
      ],
      "execution_count": 0,
      "outputs": []
    }
  ]
}